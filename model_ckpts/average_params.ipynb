{
 "cells": [
  {
   "cell_type": "code",
   "execution_count": 2,
   "metadata": {},
   "outputs": [],
   "source": [
    "import torch\n",
    "import copy\n",
    "import sys\n",
    "sys.path.append('../training')\n",
    "from model_utils import ProteinMPNN\n",
    "\n",
    "def average_models(model_list):\n",
    "    \"\"\"\n",
    "    Averages the parameters of the models in model_list and returns a new model\n",
    "    with the averaged parameters.\n",
    "\n",
    "    Parameters:\n",
    "    -----------\n",
    "    model_list : list\n",
    "        A list of PyTorch models (all having the same architecture).\n",
    "\n",
    "    Returns:\n",
    "    --------\n",
    "    averaged_model : torch.nn.Module\n",
    "        A new model whose parameters are the average of the parameters of the input models.\n",
    "    \"\"\"\n",
    "    # Create a deep copy of the first model to use as a base for the averaged model.\n",
    "    averaged_model = copy.deepcopy(model_list[0])\n",
    "    # Get the state dictionaries from all models\n",
    "    state_dicts = [model.state_dict() for model in model_list]\n",
    "    \n",
    "    # Initialize an empty dictionary to hold the averaged parameters\n",
    "    averaged_state_dict = {}\n",
    "    \n",
    "    # Iterate over each parameter key\n",
    "    for key in state_dicts[0].keys():\n",
    "        # Sum up the parameters for this key from all models\n",
    "        param_sum = sum(state_dict[key] for state_dict in state_dicts)\n",
    "        # Compute the average\n",
    "        averaged_state_dict[key] = param_sum / len(model_list)\n",
    "    \n",
    "    # Load the averaged parameters into the new model\n",
    "    averaged_model.load_state_dict(averaged_state_dict)\n",
    "    \n",
    "    return averaged_model\n",
    "\n",
    "# Example usage:\n",
    "# Suppose you have 5 models: model1, model2, model3, model4, model5\n",
    "# models = [model1, model2, model3, model4, model5]\n",
    "# averaged_model = average_models(models)\n"
   ]
  },
  {
   "cell_type": "code",
   "execution_count": 6,
   "metadata": {},
   "outputs": [
    {
     "name": "stderr",
     "output_type": "stream",
     "text": [
      "/tmp/ipykernel_189198/3844192233.py:14: FutureWarning: You are using `torch.load` with `weights_only=False` (the current default value), which uses the default pickle module implicitly. It is possible to construct malicious pickle data which will execute arbitrary code during unpickling (See https://github.com/pytorch/pytorch/blob/main/SECURITY.md#untrusted-models for more details). In a future release, the default value for `weights_only` will be flipped to `True`. This limits the functions that could be executed during unpickling. Arbitrary objects will no longer be allowed to be loaded via this mode unless they are explicitly allowlisted by the user via `torch.serialization.add_safe_globals`. We recommend you start setting `weights_only=True` for any use case where you don't have full control of the loaded file. Please open an issue on GitHub for any issues related to this experimental feature.\n",
      "  checkpoint = torch.load(f'../cache/megascale_finetuned/nolinear_fold_{fold+1}_epoch199.pt')\n"
     ]
    }
   ],
   "source": [
    "models = []\n",
    "for fold in range(5):\n",
    "    model = ProteinMPNN(node_features=128, \n",
    "                    edge_features=128, \n",
    "                    hidden_dim=128,\n",
    "                    num_encoder_layers=3, \n",
    "                    num_decoder_layers=3, \n",
    "                    k_neighbors=48, \n",
    "                    dropout=0.0, \n",
    "                    augment_eps=0.05)\n",
    "    model.to('cuda')\n",
    "\n",
    "\n",
    "    checkpoint = torch.load(f'../cache/megascale_finetuned/nolinear_fold_{fold+1}_epoch199.pt')\n",
    "    if 'model_state_dict' in checkpoint.keys():\n",
    "        model.load_state_dict(checkpoint['model_state_dict'])\n",
    "    else:\n",
    "        model.load_state_dict(checkpoint)\n",
    "\n",
    "    models.append(model)\n",
    "averaged_model = average_models(models)\n",
    "torch.save(averaged_model.state_dict(), 'nolinear_rocklin_avg.pt')"
   ]
  },
  {
   "cell_type": "code",
   "execution_count": null,
   "metadata": {},
   "outputs": [],
   "source": []
  }
 ],
 "metadata": {
  "kernelspec": {
   "display_name": "arthur",
   "language": "python",
   "name": "python3"
  },
  "language_info": {
   "codemirror_mode": {
    "name": "ipython",
    "version": 3
   },
   "file_extension": ".py",
   "mimetype": "text/x-python",
   "name": "python",
   "nbconvert_exporter": "python",
   "pygments_lexer": "ipython3",
   "version": "3.12.6"
  }
 },
 "nbformat": 4,
 "nbformat_minor": 2
}
