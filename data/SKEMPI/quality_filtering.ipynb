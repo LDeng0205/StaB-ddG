{
 "cells": [
  {
   "cell_type": "code",
   "execution_count": 1,
   "metadata": {},
   "outputs": [],
   "source": [
    "import pandas as pd\n",
    "import numpy as np\n",
    "from tqdm import tqdm\n",
    "import os"
   ]
  },
  {
   "cell_type": "code",
   "execution_count": null,
   "metadata": {},
   "outputs": [],
   "source": [
    "skempiv2 = pd.read_csv('skempi_v2.csv', sep=';')\n",
    "pdbs = skempiv2['#Pdb'].to_list()\n",
    "unique = set([x.split('_')[0] for x in pdbs])\n",
    "print(f'There are {len(unique)} unique PDBs in the dataset.')"
   ]
  },
  {
   "cell_type": "code",
   "execution_count": 3,
   "metadata": {},
   "outputs": [
    {
     "name": "stdout",
     "output_type": "stream",
     "text": [
      "Dropped 287 mutants with NaN values for affinity measurements\n"
     ]
    }
   ],
   "source": [
    "orig_size = len(skempiv2)\n",
    "skempiv2 = skempiv2.dropna(subset=['Affinity_wt_parsed', 'Affinity_mut_parsed'])\n",
    "print(f'Dropped {orig_size - len(skempiv2)} mutants with NaN values for affinity measurements')"
   ]
  },
  {
   "cell_type": "markdown",
   "metadata": {},
   "source": [
    "## Skempi v2 filtering"
   ]
  },
  {
   "cell_type": "code",
   "execution_count": 4,
   "metadata": {},
   "outputs": [
    {
     "name": "stdout",
     "output_type": "stream",
     "text": [
      "Dropped 884 duplicate entries.\n"
     ]
    }
   ],
   "source": [
    "### first drop all duplicates\n",
    "### Note: here we're only keeping the first entry. In some cases it might be better to go over entries manually based on the notes\n",
    "duplicated_rows = skempiv2[skempiv2.duplicated(subset=['#Pdb', 'Mutation(s)_cleaned'], keep='first')]\n",
    "skempiv2 = skempiv2.drop_duplicates(subset=['#Pdb', 'Mutation(s)_cleaned'], keep='first')\n",
    "print(f'Dropped {len(duplicated_rows)} duplicate entries.')\n"
   ]
  },
  {
   "cell_type": "code",
   "execution_count": 5,
   "metadata": {},
   "outputs": [
    {
     "name": "stdout",
     "output_type": "stream",
     "text": [
      "Discarded 1029 mutations with only non-interface residues\n"
     ]
    }
   ],
   "source": [
    "non_interface = ['INT', 'SUR'] # INTerior, SURface\n",
    "interface = ['COR', 'SUP', 'RIM'] # CORe, SUPport, RIM\n",
    "filtered_rows = []\n",
    "\n",
    "for _, row in skempiv2.iterrows():\n",
    "    mutation_types = row['iMutation_Location(s)']\n",
    "    for x in mutation_types.split(','):\n",
    "        if x in interface:\n",
    "            filtered_rows.append(row)\n",
    "            break\n",
    "filtered_skempi = pd.DataFrame(filtered_rows)\n",
    "print(f'Discarded {len(skempiv2) - len(filtered_skempi)} mutations with only non-interface residues')"
   ]
  },
  {
   "cell_type": "code",
   "execution_count": 6,
   "metadata": {},
   "outputs": [],
   "source": [
    "filtered_skempi['Temperature'] = filtered_skempi['Temperature'].str.split('(').str[0].fillna('298').astype(int)\n",
    "filtered_skempi['dG_wt'] =  (8.314/4184) * filtered_skempi['Temperature'] * np.log(filtered_skempi['Affinity_wt_parsed'])\n",
    "filtered_skempi['dG_mut'] =  (8.314/4184) * filtered_skempi['Temperature'] * np.log(filtered_skempi['Affinity_mut_parsed'])\n",
    "filtered_skempi['ddG'] = -(filtered_skempi['dG_mut'] - filtered_skempi['dG_wt'])"
   ]
  },
  {
   "cell_type": "code",
   "execution_count": 7,
   "metadata": {},
   "outputs": [
    {
     "name": "stdout",
     "output_type": "stream",
     "text": [
      "Discarded 108 complexes/133 mutations with less than 3 mutants\n",
      "Discarded 4 complexes/49 mutations with more than 40% of the measured ddGs the same value\n"
     ]
    }
   ],
   "source": [
    "complexes = filtered_skempi.groupby('#Pdb')\n",
    "filtered_groups = []\n",
    "discarded = 0\n",
    "discarded_groups = []\n",
    "for name, group in complexes:\n",
    "    if len(group) < 3:\n",
    "        discarded_groups.append(group)\n",
    "        discarded += len(group)\n",
    "    else:\n",
    "        filtered_groups.append(group)\n",
    "\n",
    "print(f'Discarded {len(discarded_groups)} complexes/{discarded} mutations with less than 3 mutants')\n",
    "\n",
    "discarded = 0\n",
    "discarded_groups = []\n",
    "filtered_groups2 = []\n",
    "for group in filtered_groups:\n",
    "    if group['ddG'].nunique()/len(group) < 0.6:\n",
    "        discarded_groups.append(group)\n",
    "        discarded += len(group)\n",
    "    else:\n",
    "        filtered_groups2.append(group)\n",
    "\n",
    "print(f'Discarded {len(discarded_groups)} complexes/{discarded} mutations with more than 40% of the measured ddGs the same value')"
   ]
  },
  {
   "cell_type": "code",
   "execution_count": 8,
   "metadata": {},
   "outputs": [],
   "source": [
    "from Bio.PDB import PDBParser\n",
    "directory = '/home/exx/arthur/data/SKEMPI_v2/PDBs'\n",
    "pdb_list = filtered_skempi['#Pdb'].to_list()\n",
    "pdb_list = [x.split('_')[0] for x in pdb_list]\n",
    "pdb_set = set(pdb_list)\n"
   ]
  },
  {
   "cell_type": "code",
   "execution_count": 9,
   "metadata": {},
   "outputs": [
    {
     "name": "stderr",
     "output_type": "stream",
     "text": [
      "  0%|          | 0/318 [00:00<?, ?it/s]"
     ]
    },
    {
     "name": "stderr",
     "output_type": "stream",
     "text": [
      "100%|██████████| 318/318 [00:26<00:00, 11.91it/s]\n"
     ]
    }
   ],
   "source": [
    "unresolved_crystal = []\n",
    "\n",
    "def find_gaps_in_pdb(pdb_file):\n",
    "    \"\"\"\n",
    "    Find gaps or unresolved residues in a PDB file.\n",
    "\n",
    "    Args:\n",
    "        pdb_file (str): Path to the PDB file.\n",
    "\n",
    "    Returns:\n",
    "        dict: Dictionary with chain IDs as keys and lists of missing residues as values.\n",
    "    \"\"\"\n",
    "    parser = PDBParser(QUIET=True)\n",
    "    structure = parser.get_structure(\"structure\", pdb_file)\n",
    "\n",
    "    gaps = {}\n",
    "\n",
    "    for model in structure:\n",
    "        for chain in model:\n",
    "            chain_id = chain.id\n",
    "            residues = [res.id[1] for res in chain if res.id[0] == \" \"]\n",
    "            # Residue sequence numbers are in res.id[1]\n",
    "\n",
    "            # Find missing sequence numbers by comparing consecutive residues\n",
    "            missing = []\n",
    "            for i in range(len(residues) - 1):\n",
    "                if residues[i + 1] != residues[i] + 1:\n",
    "                    # Add all missing residues between residues[i] and residues[i+1]\n",
    "                    missing.extend(range(residues[i] + 1, residues[i + 1]))\n",
    "\n",
    "            if missing:\n",
    "                gaps[chain_id] = missing\n",
    "\n",
    "    return gaps\n",
    "\n",
    "for pdb_name in tqdm(pdb_set):\n",
    "    # Example usage\n",
    "    pdb_file = os.path.join(directory, f'{pdb_name}.pdb')\n",
    "    gaps = find_gaps_in_pdb(pdb_file)\n",
    "\n",
    "    if gaps:\n",
    "        for chain, missing in gaps.items():\n",
    "            unresolved_crystal.append(pdb_name)\n",
    "            # print(f\"Chain {chain}: Missing residues {missing}\")\n"
   ]
  },
  {
   "cell_type": "code",
   "execution_count": 12,
   "metadata": {},
   "outputs": [],
   "source": [
    "unresolved_crystal.append('4NKQ') # manual inspection"
   ]
  },
  {
   "cell_type": "code",
   "execution_count": 14,
   "metadata": {},
   "outputs": [
    {
     "name": "stdout",
     "output_type": "stream",
     "text": [
      "Discarded 8 complexes/162 mutations with partially unresolved crystal structure\n",
      "Filtered from SKEMPIv2: 201 complexes/4541 mutants.\n",
      "The resulting datset has 4541 mutants.\n"
     ]
    }
   ],
   "source": [
    "discarded = 0\n",
    "discarded_groups = []\n",
    "filtered_groups3 = []\n",
    "for group in filtered_groups2:\n",
    "    if group['#Pdb'].iloc[0].split('_')[0] in unresolved_crystal:\n",
    "        discarded_groups.append(group)\n",
    "        discarded += len(group)\n",
    "    else:\n",
    "        filtered_groups3.append(group)\n",
    "\n",
    "print(f'Discarded {len(discarded_groups)} complexes/{discarded} mutations with partially unresolved crystal structure')\n",
    "\n",
    "filtered_skempi = pd.concat(filtered_groups3)\n",
    "print(f'Filtered from SKEMPIv2: {len(filtered_groups3)} complexes/{sum([len(group) for group in filtered_groups3])} mutants.')\n",
    "print(f'The resulting datset has {len(filtered_skempi)} mutants.')"
   ]
  },
  {
   "cell_type": "code",
   "execution_count": 15,
   "metadata": {},
   "outputs": [],
   "source": [
    "filtered_skempi.to_csv('filtered_skempi.csv')"
   ]
  }
 ],
 "metadata": {
  "kernelspec": {
   "display_name": "arthur",
   "language": "python",
   "name": "python3"
  },
  "language_info": {
   "codemirror_mode": {
    "name": "ipython",
    "version": 3
   },
   "file_extension": ".py",
   "mimetype": "text/x-python",
   "name": "python",
   "nbconvert_exporter": "python",
   "pygments_lexer": "ipython3",
   "version": "3.12.6"
  }
 },
 "nbformat": 4,
 "nbformat_minor": 2
}
