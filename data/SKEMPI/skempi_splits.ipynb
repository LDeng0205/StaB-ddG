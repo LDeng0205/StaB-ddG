{
 "cells": [
  {
   "cell_type": "code",
   "execution_count": 18,
   "metadata": {},
   "outputs": [],
   "source": [
    "import pandas as pd\n",
    "import numpy as np\n",
    "from tqdm import tqdm\n",
    "import os\n",
    "import pickle"
   ]
  },
  {
   "cell_type": "code",
   "execution_count": 19,
   "metadata": {},
   "outputs": [],
   "source": [
    "filtered_skempi = pd.read_csv('filtered_skempi.csv')"
   ]
  },
  {
   "cell_type": "markdown",
   "metadata": {},
   "source": [
    "## Create splits"
   ]
  },
  {
   "cell_type": "code",
   "execution_count": null,
   "metadata": {},
   "outputs": [],
   "source": [
    "### Many of the Hold_out_proteins are overlapping, so we need to merge them into super clusters.\n",
    "hold_out_proteins = filtered_skempi['Hold_out_proteins'].unique()\n",
    "super_clusters = [set(x.split(',')) for x in hold_out_proteins]\n",
    "joined=True\n",
    "while joined:\n",
    "    joined=False\n",
    "    new_super_clusters = []\n",
    "    while super_clusters:\n",
    "        cur = super_clusters.pop(0)\n",
    "        for i, cluster in enumerate(super_clusters):\n",
    "            if cur & cluster:\n",
    "                cur |= cluster  # Merge the sets\n",
    "                super_clusters.pop(i)  # Remove the merged set\n",
    "                joined = True\n",
    "        new_super_clusters.append(cur)\n",
    "    super_clusters = new_super_clusters\n",
    "\n",
    "pdb_to_super_clusters = {}\n",
    "\n",
    "for cluster in super_clusters:\n",
    "    for pdb in cluster:\n",
    "        pdb_to_super_clusters[pdb] = list(cluster)\n",
    "\n",
    "filtered_skempi['super_clusters'] = [','.join(pdb_to_super_clusters[x[0]]) for x in filtered_skempi['Hold_out_proteins'].str.split(',')]"
   ]
  },
  {
   "cell_type": "code",
   "execution_count": 21,
   "metadata": {},
   "outputs": [],
   "source": [
    "# filtered_skempi.to_csv('filtered_skempi.csv')"
   ]
  },
  {
   "cell_type": "code",
   "execution_count": 22,
   "metadata": {},
   "outputs": [
    {
     "name": "stdout",
     "output_type": "stream",
     "text": [
      "There are 44 clusters/3050 mutants in training\n",
      "There are 20 clusters/1491 mutants in test\n"
     ]
    }
   ],
   "source": [
    "cluster_names = filtered_skempi['super_clusters'].unique()\n",
    "np.random.seed(17)\n",
    "np.random.shuffle(cluster_names)\n",
    "train_size = int(0.7 * len(cluster_names))\n",
    "test_size = len(cluster_names) - train_size\n",
    "train_clusters = cluster_names[:train_size]\n",
    "test_clusters = cluster_names[train_size:]\n",
    "\n",
    "train_df = filtered_skempi[filtered_skempi['super_clusters'].isin(train_clusters)]\n",
    "test_df = filtered_skempi[filtered_skempi['super_clusters'].isin(test_clusters)]\n",
    "\n",
    "print(f'There are {len(train_clusters)} clusters/{len(train_df)} mutants in training')\n",
    "print(f'There are {len(test_clusters)} clusters/{len(test_df)} mutants in test')\n",
    "\n",
    "# Save the splits as pickle files\n",
    "with open('train_clusters.pkl', 'wb') as f:\n",
    "    pickle.dump(train_clusters, f)\n",
    "\n",
    "with open('test_clusters.pkl', 'wb') as f:\n",
    "    pickle.dump(test_clusters, f)"
   ]
  }
 ],
 "metadata": {
  "kernelspec": {
   "display_name": "arthur",
   "language": "python",
   "name": "python3"
  },
  "language_info": {
   "codemirror_mode": {
    "name": "ipython",
    "version": 3
   },
   "file_extension": ".py",
   "mimetype": "text/x-python",
   "name": "python",
   "nbconvert_exporter": "python",
   "pygments_lexer": "ipython3",
   "version": "3.12.6"
  }
 },
 "nbformat": 4,
 "nbformat_minor": 2
}
