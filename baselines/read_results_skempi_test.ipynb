{
 "cells": [
  {
   "cell_type": "code",
   "execution_count": 1,
   "metadata": {},
   "outputs": [],
   "source": [
    "import pandas as pd\n",
    "from scipy.stats import pearsonr, spearmanr\n",
    "import math\n",
    "import json\n",
    "from pathlib import Path\n",
    "from tqdm import tqdm\n",
    "\n",
    "import torch\n",
    "import numpy as np\n",
    "import pandas as pd\n",
    "from sklearn.metrics import precision_score, recall_score, roc_auc_score, average_precision_score\n",
    "from eval_utils import *"
   ]
  },
  {
   "cell_type": "code",
   "execution_count": 3,
   "metadata": {},
   "outputs": [],
   "source": [
    "train = pd.read_csv('flexddg_train.csv')\n",
    "test = pd.read_csv('flexddg_test.csv')\n",
    "all = pd.concat([train, test], ignore_index=True)\n",
    "all.to_csv('flexddg_all.csv', index=False)"
   ]
  },
  {
   "cell_type": "code",
   "execution_count": 4,
   "metadata": {},
   "outputs": [],
   "source": [
    "df_paths = ['ensemble_stab_foldx.csv', 'StaB-ddG.csv', 'appendix/april28_nolinear_rocklin.csv', 'StaB-ddG_zero-shot.csv', 'baselines/foldx_test.csv', 'baselines/rde_filtered.csv', 'baselines/vqmae_filtered.csv', 'baselines/promim.csv', 'baselines/promptddg.csv', 'baselines/diffaffinity.csv', 'baselines/flexddg_protddg.csv', 'baselines/ProteinMPNN_test_novarred.csv', 'baselines/ppiformer_finetuned_protddg.csv', 'baselines/esm_filtered.csv']\n",
    "method_names = ['StaB-ddG + FoldX', 'StaB-ddG', 'Stability fine-tuned', 'StaB-ddG zero-shot', 'FoldX', 'RDE-Net', 'Surface-VQMAE', 'ProMIM', 'Prompt-DDG', 'DiffAffinity', 'Flex ddG', 'ProteinMPNN', 'PPIformer', 'ESM-IF1']"
   ]
  },
  {
   "cell_type": "code",
   "execution_count": 5,
   "metadata": {},
   "outputs": [
    {
     "name": "stderr",
     "output_type": "stream",
     "text": [
      "100%|██████████| 2/2 [00:00<00:00, 68.30it/s]\n"
     ]
    },
    {
     "data": {
      "text/plain": [
       "{'Spearman': 0.6100560426465513,\n",
       " 'Spearman Standard Error': 0.03994640184916115,\n",
       " 'Per Structure Spearman': 0.529293397970343,\n",
       " 'Per Structure Spearman Standard Error': 0.03422634846663846,\n",
       " 'Pearson': 0.5892365934458967,\n",
       " 'Pearson Standard Error': 0.023495256509481588,\n",
       " 'Per Structure Pearson': 0.562122521528791,\n",
       " 'Per Structure Pearson Standard Error': 0.03596331623904653,\n",
       " 'RMSE': 1.6223137166570893,\n",
       " 'RMSE Standard Error': 0.0448715703432242,\n",
       " 'Per Structure RMSE': 1.3209591862965684,\n",
       " 'Per Structure RMSE Standard Error': 0.12188596718199729,\n",
       " 'MAE': 1.1390700045516997,\n",
       " 'Precision': 0.8780680918448139,\n",
       " 'Recall': 0.9097621000820345,\n",
       " 'ROC AUC': 0.7773066158374754,\n",
       " 'ROC AUC Standard Error': 0.035275280518319074,\n",
       " 'PR AUC': 0.928385193175715}"
      ]
     },
     "execution_count": 5,
     "metadata": {},
     "output_type": "execute_result"
    }
   ],
   "source": [
    "## test ensemble between stab and foldx\n",
    "df1 = pd.read_csv('StaB-ddG.csv')\n",
    "df2 = pd.read_csv('baselines/foldx_test.csv')\n",
    "df2['ddG_pred'] = df1['ddG_pred'] * 0.5 + df2['ddG_pred'] * 0.5\n",
    "df2.to_csv('ensemble_stab_foldx.csv', index=False)\n",
    "compute_metrics(df2, bootstrap=False)"
   ]
  },
  {
   "cell_type": "code",
   "execution_count": 6,
   "metadata": {},
   "outputs": [
    {
     "name": "stderr",
     "output_type": "stream",
     "text": [
      "100%|██████████| 300/300 [00:04<00:00, 74.75it/s]\n",
      "100%|██████████| 300/300 [00:05<00:00, 57.44it/s]\n",
      "100%|██████████| 300/300 [00:05<00:00, 58.94it/s]\n",
      "100%|██████████| 300/300 [00:05<00:00, 55.54it/s]\n",
      "100%|██████████| 300/300 [00:04<00:00, 73.24it/s]\n",
      "100%|██████████| 300/300 [00:05<00:00, 58.39it/s]\n"
     ]
    },
    {
     "name": "stdout",
     "output_type": "stream",
     "text": [
      "Surface-VQMAE\n"
     ]
    },
    {
     "name": "stderr",
     "output_type": "stream",
     "text": [
      "100%|██████████| 300/300 [00:06<00:00, 45.32it/s]\n"
     ]
    },
    {
     "name": "stdout",
     "output_type": "stream",
     "text": [
      "ProMIM\n"
     ]
    },
    {
     "name": "stderr",
     "output_type": "stream",
     "text": [
      "100%|██████████| 300/300 [00:05<00:00, 51.33it/s]\n"
     ]
    },
    {
     "name": "stdout",
     "output_type": "stream",
     "text": [
      "Prompt-DDG\n"
     ]
    },
    {
     "name": "stderr",
     "output_type": "stream",
     "text": [
      "100%|██████████| 300/300 [00:05<00:00, 55.26it/s]\n"
     ]
    },
    {
     "name": "stdout",
     "output_type": "stream",
     "text": [
      "DiffAffinity\n"
     ]
    },
    {
     "name": "stderr",
     "output_type": "stream",
     "text": [
      "100%|██████████| 300/300 [00:05<00:00, 51.55it/s]\n",
      "100%|██████████| 300/300 [00:03<00:00, 77.90it/s]\n",
      "100%|██████████| 300/300 [00:05<00:00, 58.23it/s]\n",
      "100%|██████████| 300/300 [00:03<00:00, 80.08it/s]\n",
      "100%|██████████| 300/300 [00:04<00:00, 60.35it/s]\n"
     ]
    }
   ],
   "source": [
    "results = {}\n",
    "for df_path, name in zip(df_paths, method_names):\n",
    "    df = pd.read_csv(df_path)\n",
    "    if '#Pdb' not in df.columns:\n",
    "        try: \n",
    "            df['Name'] = df['complex']\n",
    "            print(name)\n",
    "        except KeyError:\n",
    "            print('Error:', name)\n",
    "        df['#Pdb'] = df['Name']\n",
    "\n",
    "    results[name] = compute_metrics(df, bootstrap=True)"
   ]
  },
  {
   "cell_type": "code",
   "execution_count": 7,
   "metadata": {},
   "outputs": [
    {
     "name": "stderr",
     "output_type": "stream",
     "text": [
      "100%|██████████| 2/2 [00:00<00:00, 79.39it/s]\n"
     ]
    },
    {
     "name": "stdout",
     "output_type": "stream",
     "text": [
      "{'Spearman': 0.46893253447392147, 'Spearman Standard Error': 0.016356392729866, 'Per Structure Spearman': 0.4518821990555648, 'Per Structure Spearman Standard Error': 0.038900124806505815, 'Pearson': 0.26454866442959635, 'Pearson Standard Error': 0.05816499520189625, 'Per Structure Pearson': 0.47953347826489917, 'Per Structure Pearson Standard Error': 0.04125533131981945, 'RMSE': 3.547129858967424, 'RMSE Standard Error': 0.7535781986006214, 'Per Structure RMSE': 2.276741438486343, 'Per Structure RMSE Standard Error': 0.5206995431244866, 'MAE': 1.631180580756457, 'Precision': 0.848421052631579, 'Recall': 0.7996031746031746, 'ROC AUC': 0.6921119748378475, 'ROC AUC Standard Error': 0.011552097194022557, 'PR AUC': 0.9044632624496864}\n",
      "==============\n"
     ]
    },
    {
     "name": "stderr",
     "output_type": "stream",
     "text": [
      "100%|██████████| 2/2 [00:00<00:00, 55.64it/s]\n"
     ]
    },
    {
     "name": "stdout",
     "output_type": "stream",
     "text": [
      "{'Spearman': 0.5045322327819859, 'Spearman Standard Error': 0.0037984217622746563, 'Per Structure Spearman': 0.3515239527945587, 'Per Structure Spearman Standard Error': 0.03790842049369956, 'Pearson': 0.5076082612059586, 'Pearson Standard Error': 0.004314281531251962, 'Per Structure Pearson': 0.37039526802263567, 'Per Structure Pearson Standard Error': 0.038538666860678084, 'RMSE': 1.5501449098315285, 'RMSE Standard Error': 0.012417072174569554, 'Per Structure RMSE': 1.3345455439971698, 'Per Structure RMSE Standard Error': 0.0459500662035759, 'MAE': 1.1578185287686136, 'Precision': 0.8488453463960812, 'Recall': 0.8494397759103641, 'ROC AUC': 0.7396795081669032, 'ROC AUC Standard Error': 0.010599702560431412, 'PR AUC': 0.9032388002958016}\n"
     ]
    }
   ],
   "source": [
    "import pickle\n",
    "flex_test = pd.read_csv('baselines/flexddg_protddg.csv')\n",
    "flex_train = pd.read_csv('baselines/flexddg_train.csv')\n",
    "flex = pd.concat([flex_test, flex_train])\n",
    "skempi_df = pd.read_csv('../SKEMPI/filtered_skempi.csv')\n",
    "# with open('../SKEMPI/test_clusters.pkl', 'rb') as f:\n",
    "#     test_clusters = pickle.load(f)\n",
    "# test_df = test_df[test_df['super_clusters'].isin(test_clusters)]\n",
    "# names = flex['#Pdb'].unique()\n",
    "# v2 = []\n",
    "# v1 = []\n",
    "v1s = skempi_df[skempi_df['SKEMPI version'] == 1]['#Pdb'].unique()\n",
    "flex_v1 = flex[flex['#Pdb'].isin(v1s)]\n",
    "flex_v2 = flex[~flex['#Pdb'].isin(v1s)]\n",
    "print(compute_metrics(flex_v1, bootstrap=False))\n",
    "print('==============')\n",
    "print(compute_metrics(flex_v2, bootstrap=False))\n"
   ]
  },
  {
   "cell_type": "code",
   "execution_count": 8,
   "metadata": {},
   "outputs": [
    {
     "name": "stderr",
     "output_type": "stream",
     "text": [
      "100%|██████████| 2/2 [00:00<00:00, 81.85it/s]\n"
     ]
    },
    {
     "name": "stdout",
     "output_type": "stream",
     "text": [
      "{'Spearman': 0.5091288032727836, 'Spearman Standard Error': 0.007090768466152753, 'Per Structure Spearman': 0.4965510551139181, 'Per Structure Spearman Standard Error': 0.030532713481830488, 'Pearson': 0.46559795847505514, 'Pearson Standard Error': 0.0006743197458642936, 'Per Structure Pearson': 0.5288624625183287, 'Per Structure Pearson Standard Error': 0.02985653497083737, 'RMSE': 2.440977444572566, 'RMSE Standard Error': 0.06228408058623858, 'Per Structure RMSE': 1.9836465475078855, 'Per Structure RMSE Standard Error': 0.1670746033783873, 'MAE': 1.6995524152989878, 'Precision': 0.8525161933233683, 'Recall': 0.837493881546745, 'ROC AUC': 0.7254243799298685, 'ROC AUC Standard Error': 0.012281047463608086, 'PR AUC': 0.9133435993946383}\n",
      "==============\n"
     ]
    },
    {
     "name": "stderr",
     "output_type": "stream",
     "text": [
      "100%|██████████| 2/2 [00:00<00:00, 54.73it/s]"
     ]
    },
    {
     "name": "stdout",
     "output_type": "stream",
     "text": [
      "{'Spearman': 0.5197256412798108, 'Spearman Standard Error': 0.012718238169286938, 'Per Structure Spearman': 0.4184670336730186, 'Per Structure Spearman Standard Error': 0.035896389702494425, 'Pearson': 0.47753713926409214, 'Pearson Standard Error': 0.016737590162363036, 'Per Structure Pearson': 0.43295734068201536, 'Per Structure Pearson Standard Error': 0.03606817709527545, 'RMSE': 1.8995266067693408, 'RMSE Standard Error': 0.08079353772205822, 'Per Structure RMSE': 1.6205524439405683, 'Per Structure RMSE Standard Error': 0.11633554279620041, 'MAE': 1.3194870042734386, 'Precision': 0.8649015614392397, 'Recall': 0.8414795244385733, 'ROC AUC': 0.7602249242270841, 'ROC AUC Standard Error': 0.013783194243203178, 'PR AUC': 0.9020173434859977}\n"
     ]
    },
    {
     "name": "stderr",
     "output_type": "stream",
     "text": [
      "\n"
     ]
    }
   ],
   "source": [
    "foldx = pd.read_csv('baselines/foldx_full.csv')\n",
    "foldx_v1 = foldx[foldx['#Pdb'].isin(v1s)]\n",
    "foldx_v2 = foldx[~foldx['#Pdb'].isin(v1s)]\n",
    "print(compute_metrics(foldx_v1, bootstrap=False))\n",
    "print('==============')\n",
    "print(compute_metrics(foldx_v2, bootstrap=False))"
   ]
  },
  {
   "cell_type": "code",
   "execution_count": 11,
   "metadata": {},
   "outputs": [
    {
     "name": "stdout",
     "output_type": "stream",
     "text": [
      "=========StaB-ddG + FoldX==========\n",
      "=========Stability fine-tuned==========\n",
      "=========StaB-ddG zero-shot==========\n",
      "StaB-ddG zero-shot\n",
      "Pearson p-value: 0.19763738934142452, Spearman p-value: 0.46496590852671915, RMSE p-value: 9.552033553698022e-05\n",
      "=========FoldX==========\n",
      "FoldX\n",
      "Pearson p-value: 0.8936832970860548, Spearman p-value: 0.45654727002184936, RMSE p-value: 0.006777077071277473\n",
      "=========RDE-Net==========\n",
      "RDE-Net\n",
      "Pearson p-value: 0.002523864765122947, Spearman p-value: 0.0014873955179699981, RMSE p-value: 0.09739779973114632\n",
      "=========Surface-VQMAE==========\n",
      "Surface-VQMAE\n",
      "Surface-VQMAE\n",
      "Pearson p-value: 0.015225226726194642, Spearman p-value: 0.015486936162903796, RMSE p-value: 0.3186896355203492\n",
      "=========ProMIM==========\n",
      "ProMIM\n",
      "=========Prompt-DDG==========\n",
      "Prompt-DDG\n",
      "Prompt-DDG\n",
      "Pearson p-value: 0.0021434927927042897, Spearman p-value: 0.0010738758643838284, RMSE p-value: 0.9994374342430123\n",
      "=========DiffAffinity==========\n",
      "DiffAffinity\n",
      "DiffAffinity\n",
      "Pearson p-value: 9.449767696386746e-05, Spearman p-value: 0.0002483036503559612, RMSE p-value: 0.052468457283346814\n",
      "=========Flex ddG==========\n",
      "Flex ddG\n",
      "Pearson p-value: 0.30704723431157716, Spearman p-value: 0.3983741119234143, RMSE p-value: 0.30947404956588526\n",
      "=========ProteinMPNN==========\n",
      "=========PPIformer==========\n",
      "PPIformer\n",
      "Pearson p-value: 2.1919478407717916e-07, Spearman p-value: 1.8781803341537547e-05, RMSE p-value: 0.05327990948606613\n",
      "=========ESM-IF1==========\n"
     ]
    }
   ],
   "source": [
    "stab = pd.read_csv('StaB-ddG.csv')\n",
    "\n",
    "sig = {}\n",
    "for df_path, name in zip(df_paths, method_names):\n",
    "    if 'StaB-ddG' == name:\n",
    "        continue\n",
    "    print(f'========={name}==========')\n",
    "\n",
    "    df = pd.read_csv(df_path)\n",
    "    if '#Pdb' not in df.columns:\n",
    "        try: \n",
    "            df['Name'] = df['complex']\n",
    "            print(name)\n",
    "        except KeyError:\n",
    "            print('Error:', name)\n",
    "        df['#Pdb'] = df['Name']\n",
    "\n",
    "    pr_pval, sp_pval, rmse_pval = t_test(stab, df, one_sided=False)\n",
    "    if sp_pval < 0.05:\n",
    "        significance = '*'\n",
    "    else:\n",
    "        significance = \"n.s.\"\n",
    "    \n",
    "    if sp_pval > 0.05 or pr_pval > 0.05 or rmse_pval > 0.05:\n",
    "        print(name)\n",
    "        print(f'Pearson p-value: {pr_pval}, Spearman p-value: {sp_pval}, RMSE p-value: {rmse_pval}')\n",
    "\n",
    "    sig[name] = significance\n",
    "    \n",
    "    "
   ]
  },
  {
   "cell_type": "code",
   "execution_count": 12,
   "metadata": {},
   "outputs": [
    {
     "name": "stdout",
     "output_type": "stream",
     "text": [
      "=========StaB-ddG + FoldX==========\n",
      "StaB-ddG + FoldX\n",
      "Pearson p-value: 0.9996373355336747, Spearman p-value: 0.9945893266054895, RMSE p-value: 0.9999999689282952\n",
      "=========StaB-ddG==========\n",
      "StaB-ddG\n",
      "Pearson p-value: 0.4468416485430274, Spearman p-value: 0.22827363501092468, RMSE p-value: 0.9966114614643613\n",
      "=========Stability fine-tuned==========\n",
      "Stability fine-tuned\n",
      "Pearson p-value: 0.11773281762237443, Spearman p-value: 0.04280529039367033, RMSE p-value: 0.2877673230702704\n",
      "=========StaB-ddG zero-shot==========\n",
      "StaB-ddG zero-shot\n",
      "Pearson p-value: 0.11690086850049833, Spearman p-value: 0.09892013381991956, RMSE p-value: 0.19635370231604415\n",
      "=========RDE-Net==========\n",
      "RDE-Net\n",
      "Pearson p-value: 0.0009375242972137163, Spearman p-value: 8.829864396797702e-05, RMSE p-value: 0.9014983327185441\n",
      "=========Surface-VQMAE==========\n",
      "Surface-VQMAE\n",
      "Surface-VQMAE\n",
      "Pearson p-value: 0.005781447954207136, Spearman p-value: 0.0014928991493308012, RMSE p-value: 0.9702313897483292\n",
      "=========ProMIM==========\n",
      "ProMIM\n",
      "ProMIM\n",
      "Pearson p-value: 9.374493764005133e-07, Spearman p-value: 1.4962214199316716e-08, RMSE p-value: 0.7772684919421984\n",
      "=========Prompt-DDG==========\n",
      "Prompt-DDG\n",
      "Prompt-DDG\n",
      "Pearson p-value: 0.0001265579809998951, Spearman p-value: 5.1092226862854286e-06, RMSE p-value: 0.9918120647256504\n",
      "=========DiffAffinity==========\n",
      "DiffAffinity\n",
      "DiffAffinity\n",
      "Pearson p-value: 5.529378867500319e-06, Spearman p-value: 6.448667195384577e-07, RMSE p-value: 0.847065012491016\n",
      "=========Flex ddG==========\n",
      "Flex ddG\n",
      "Pearson p-value: 0.10528229310522211, Spearman p-value: 0.04465127054855601, RMSE p-value: 0.2788762403841999\n",
      "=========ProteinMPNN==========\n",
      "=========PPIformer==========\n",
      "PPIformer\n",
      "Pearson p-value: 7.613265241383664e-10, Spearman p-value: 6.639695667931546e-08, RMSE p-value: 0.923635531951916\n",
      "=========ESM-IF1==========\n"
     ]
    }
   ],
   "source": [
    "stab = pd.read_csv('baselines/foldx_test.csv')\n",
    "\n",
    "sig = {}\n",
    "for df_path, name in zip(df_paths, method_names):\n",
    "    if 'FoldX' == name:\n",
    "        continue\n",
    "    print(f'========={name}==========')\n",
    "\n",
    "    df = pd.read_csv(df_path)\n",
    "    if '#Pdb' not in df.columns:\n",
    "        try: \n",
    "            df['Name'] = df['complex']\n",
    "            print(name)\n",
    "        except KeyError:\n",
    "            print('Error:', name)\n",
    "        df['#Pdb'] = df['Name']\n",
    "\n",
    "    pr_pval, sp_pval, rmse_pval = t_test(stab, df, one_sided=True)\n",
    "    if sp_pval < 0.05:\n",
    "        significance = '*'\n",
    "    else:\n",
    "        significance = \"n.s.\"\n",
    "    \n",
    "    if sp_pval > 0.05 or pr_pval > 0.05 or rmse_pval > 0.05:\n",
    "        print(name)\n",
    "        print(f'Pearson p-value: {pr_pval}, Spearman p-value: {sp_pval}, RMSE p-value: {rmse_pval}')\n",
    "\n",
    "    sig[name] = significance\n",
    "    \n",
    "    "
   ]
  },
  {
   "cell_type": "code",
   "execution_count": 13,
   "metadata": {},
   "outputs": [],
   "source": [
    "def latex_table_format(metric, name):\n",
    "    \"\"\"\n",
    "    Format a metrics dict into a LaTeX table row with per‐structure ± stderr\n",
    "    and overall metrics including ROC AUC.\n",
    "    \"\"\"\n",
    "    # Per‐structure values ± standard error\n",
    "    per_p   = metric['Per Structure Pearson']\n",
    "    per_p_se = metric['Per Structure Pearson Standard Error']\n",
    "    per_s   = metric['Per Structure Spearman']\n",
    "    per_s_se = metric['Per Structure Spearman Standard Error']\n",
    "    per_r   = metric['Per Structure RMSE']\n",
    "    per_r_se = metric['Per Structure RMSE Standard Error']\n",
    "    # Overall values\n",
    "    over_p   = metric['Pearson']\n",
    "    over_p_se = metric['Pearson Standard Error']\n",
    "    over_s   = metric['Spearman']\n",
    "    over_s_se = metric['Spearman Standard Error']\n",
    "    over_r   = metric['RMSE']\n",
    "    over_r_se = metric['RMSE Standard Error']\n",
    "    over_roc = metric['ROC AUC']\n",
    "    over_roc_se = metric['ROC AUC Standard Error']\n",
    "    # Build the LaTeX row\n",
    "    return (\n",
    "        f\"{name}  & \"\n",
    "        f\"{per_p:.2f} $\\\\pm$ {per_p_se:.2f}  & \"\n",
    "        f\"{per_s:.2f} $\\\\pm$ {per_s_se:.2f}  & \"\n",
    "        f\"{per_r:.2f} $\\\\pm$ {per_r_se:.2f}  & \"\n",
    "        f\"{over_p:.2f} $\\\\pm$ {over_p_se:.2f} & \"\n",
    "        f\"{over_s:.2f}  $\\\\pm$ {over_s_se:.2f} & \"\n",
    "        f\"{over_r:.2f}  $\\\\pm$ {over_r_se:.2f} & \"\n",
    "        f\"{over_roc:.2f} $\\\\pm$ {over_roc_se:.2f} \\\\\\\\\"\n",
    "    )"
   ]
  },
  {
   "cell_type": "code",
   "execution_count": 14,
   "metadata": {},
   "outputs": [
    {
     "name": "stdout",
     "output_type": "stream",
     "text": [
      "StaB-ddG + FoldX  & 0.56 $\\pm$ 0.04  & 0.53 $\\pm$ 0.03  & 1.32 $\\pm$ 0.12  & 0.59 $\\pm$ 0.05 & 0.61  $\\pm$ 0.05 & 1.62  $\\pm$ 0.11 & 0.78 $\\pm$ 0.04 \\\\\n",
      "StaB-ddG  & 0.49 $\\pm$ 0.04  & 0.45 $\\pm$ 0.04  & 1.41 $\\pm$ 0.12  & 0.53 $\\pm$ 0.06 & 0.53  $\\pm$ 0.06 & 1.72  $\\pm$ 0.12 & 0.73 $\\pm$ 0.05 \\\\\n",
      "Stability fine-tuned  & 0.45 $\\pm$ 0.04  & 0.40 $\\pm$ 0.04  & 1.69 $\\pm$ 0.15  & 0.44 $\\pm$ 0.06 & 0.45  $\\pm$ 0.06 & 2.00  $\\pm$ 0.12 & 0.70 $\\pm$ 0.04 \\\\\n",
      "StaB-ddG zero-shot  & 0.45 $\\pm$ 0.04  & 0.43 $\\pm$ 0.04  & 1.71 $\\pm$ 0.11  & 0.44 $\\pm$ 0.08 & 0.43  $\\pm$ 0.06 & 2.18  $\\pm$ 0.19 & 0.68 $\\pm$ 0.05 \\\\\n",
      "FoldX  & 0.49 $\\pm$ 0.03  & 0.48 $\\pm$ 0.03  & 1.63 $\\pm$ 0.12  & 0.54 $\\pm$ 0.05 & 0.56  $\\pm$ 0.05 & 1.92  $\\pm$ 0.12 & 0.77 $\\pm$ 0.04 \\\\\n",
      "RDE-Net  & 0.30 $\\pm$ 0.05  & 0.28 $\\pm$ 0.05  & 1.53 $\\pm$ 0.12  & 0.40 $\\pm$ 0.05 & 0.40  $\\pm$ 0.06 & 1.81  $\\pm$ 0.10 & 0.63 $\\pm$ 0.04 \\\\\n",
      "Surface-VQMAE  & 0.35 $\\pm$ 0.05  & 0.33 $\\pm$ 0.05  & 1.48 $\\pm$ 0.11  & 0.45 $\\pm$ 0.04 & 0.44  $\\pm$ 0.05 & 1.76  $\\pm$ 0.10 & 0.65 $\\pm$ 0.03 \\\\\n",
      "ProMIM  & 0.19 $\\pm$ 0.06  & 0.15 $\\pm$ 0.05  & 1.57 $\\pm$ 0.12  & 0.35 $\\pm$ 0.06 & 0.35  $\\pm$ 0.06 & 1.85  $\\pm$ 0.11 & 0.60 $\\pm$ 0.03 \\\\\n",
      "Prompt-DDG  & 0.32 $\\pm$ 0.04  & 0.27 $\\pm$ 0.04  & 1.41 $\\pm$ 0.12  & 0.33 $\\pm$ 0.07 & 0.35  $\\pm$ 0.06 & 1.81  $\\pm$ 0.12 & 0.57 $\\pm$ 0.05 \\\\\n",
      "DiffAffinity  & 0.26 $\\pm$ 0.04  & 0.25 $\\pm$ 0.04  & 1.55 $\\pm$ 0.13  & 0.31 $\\pm$ 0.05 & 0.33  $\\pm$ 0.05 & 1.88  $\\pm$ 0.12 & 0.64 $\\pm$ 0.05 \\\\\n",
      "Flex ddG  & 0.45 $\\pm$ 0.04  & 0.42 $\\pm$ 0.04  & 1.93 $\\pm$ 0.50  & 0.22 $\\pm$ 0.18 & 0.54  $\\pm$ 0.05 & 3.98  $\\pm$ 1.71 & 0.74 $\\pm$ 0.03 \\\\\n",
      "ProteinMPNN  & 0.14 $\\pm$ 0.04  & 0.13 $\\pm$ 0.04  & 7.14 $\\pm$ 0.37  & 0.18 $\\pm$ 0.07 & 0.18  $\\pm$ 0.06 & 7.46  $\\pm$ 0.41 & 0.55 $\\pm$ 0.04 \\\\\n",
      "PPIformer  & 0.20 $\\pm$ 0.04  & 0.20 $\\pm$ 0.04  & 1.51 $\\pm$ 0.10  & 0.46 $\\pm$ 0.06 & 0.42  $\\pm$ 0.07 & 1.77  $\\pm$ 0.10 & 0.71 $\\pm$ 0.06 \\\\\n",
      "ESM-IF1  & 0.24 $\\pm$ 0.04  & 0.22 $\\pm$ 0.04  & 1.93 $\\pm$ 0.15  & 0.15 $\\pm$ 0.05 & 0.23  $\\pm$ 0.08 & 2.32  $\\pm$ 0.16 & 0.54 $\\pm$ 0.04 \\\\\n"
     ]
    }
   ],
   "source": [
    "for key, value in results.items():\n",
    "    print(latex_table_format(value, key))"
   ]
  },
  {
   "cell_type": "code",
   "execution_count": 18,
   "metadata": {},
   "outputs": [
    {
     "name": "stderr",
     "output_type": "stream",
     "text": [
      "100%|██████████| 300/300 [00:03<00:00, 82.16it/s]"
     ]
    },
    {
     "name": "stdout",
     "output_type": "stream",
     "text": [
      "PPIformer  & 0.20 $\\pm$ 0.04  & 0.20 $\\pm$ 0.04  & 1.51 $\\pm$ 0.10  & 0.46 $\\pm$ 0.07 & 0.42  $\\pm$ 0.07 & 1.77  $\\pm$ 0.10 & 0.71 $\\pm$ 0.06 \\\\\n"
     ]
    },
    {
     "name": "stderr",
     "output_type": "stream",
     "text": [
      "\n"
     ]
    }
   ],
   "source": [
    "df = pd.read_csv('baselines/ppiformer_finetuned_protddg.csv')\n",
    "\n",
    "# df['ddG_pred'] = df['pred_1']\n",
    "# df['#Pdb'] = df['Name']\n",
    "\n",
    "print(latex_table_format(compute_metrics(df), 'PPIformer'))    "
   ]
  },
  {
   "cell_type": "code",
   "execution_count": 19,
   "metadata": {},
   "outputs": [
    {
     "name": "stdout",
     "output_type": "stream",
     "text": [
      "(7.613265241383664e-10, 6.639695667931546e-08, 0.923635531951916)\n"
     ]
    }
   ],
   "source": [
    "print(t_test(stab, df))"
   ]
  },
  {
   "cell_type": "code",
   "execution_count": 16,
   "metadata": {},
   "outputs": [
    {
     "data": {
      "image/png": "[encoded data removed]",
      "text/plain": [
       "<Figure size 1000x500 with 1 Axes>"
      ]
     },
     "metadata": {},
     "output_type": "display_data"
    }
   ],
   "source": [
    "import matplotlib.pyplot as plt\n",
    "plt.rcParams.update({\n",
    "    'font.family': 'serif',\n",
    "    'font.serif': ['Times New Roman', 'Times', 'DejaVu Serif'],\n",
    "    'mathtext.fontset': 'cm',\n",
    "})\n",
    "\n",
    "df_paths = ['ensemble_stab_foldx.csv', 'StaB-ddG.csv', 'appendix/april28_nolinear_rocklin.csv', 'StaB-ddG_zero-shot.csv', 'baselines/foldx_test.csv', 'baselines/rde_filtered.csv', 'baselines/vqmae_filtered.csv', 'baselines/promim.csv', 'baselines/promptddg.csv', 'baselines/diffaffinity.csv', 'baselines/flexddg_protddg.csv', 'baselines/ProteinMPNN_test_novarred.csv', 'baselines/esm_filtered.csv']\n",
    "method_names = ['StaB-ddG + FoldX', 'StaB-ddG', 'Stability fine-tuned', 'StaB-ddG zero-shot', 'FoldX', 'RDE-Net', 'Surface-VQMAE', 'ProMIM', 'Prompt-DDG', 'DiffAffinity', 'Flex ddG', 'ProteinMPNN', 'ESM-IF1']\n",
    "\n",
    "groups = {\n",
    "    'group1': ['StaB-ddG + FoldX', 'StaB-ddG', 'Stability fine-tuned', 'StaB-ddG zero-shot', 'FoldX', 'Flex ddG'],\n",
    "    'group2': ['RDE-Net', 'Surface-VQMAE', 'ProMIM', 'Prompt-DDG', 'DiffAffinity', 'PPIformer'],\n",
    "    'group3': ['ESM-IF1', 'ProteinMPNN']\n",
    "}\n",
    "\n",
    "group_map = {}\n",
    "for group_name, members in groups.items():\n",
    "    for m in members:\n",
    "        group_map[m] = group_name\n",
    "\n",
    "fs = 12\n",
    "\n",
    "\n",
    "# Extract and sort data within groups\n",
    "grouped_data = []\n",
    "for group_name, members in groups.items():\n",
    "\n",
    "    group_members = [(key, results[key]['Per Structure Spearman'], results[key]['Per Structure Spearman Standard Error'])\n",
    "                     for key in members]\n",
    "    # Sort within group by Spearman descending\n",
    "    if group_name != 'group1':\n",
    "        group_members.sort(key=lambda t: t[1], reverse=True)\n",
    "    grouped_data.append((group_name, group_members))\n",
    "\n",
    "# Flatten grouped data for plotting, keep track of group boundaries\n",
    "x = []\n",
    "spearmans = []\n",
    "errors = []\n",
    "group_boundaries = []  # positions where group changes\n",
    "\n",
    "pos = []\n",
    "current_pos = 0\n",
    "\n",
    "for group_name, members in grouped_data:\n",
    "    for item in members:\n",
    "        x.append(item[0])\n",
    "        spearmans.append(item[1])\n",
    "        errors.append(item[2])\n",
    "        pos.append(current_pos)\n",
    "        current_pos += 1\n",
    "    group_boundaries.append(current_pos - 0.5)  # halfway between last and next group\n",
    "    current_pos += 1  # add extra space between groups\n",
    "\n",
    "# Plotting\n",
    "fig, ax = plt.subplots(figsize=(10, 5))\n",
    "\n",
    "bars = ax.bar(\n",
    "    pos,\n",
    "    spearmans,\n",
    "    width=0.7,\n",
    "    yerr=errors,\n",
    "    capsize=5,\n",
    "    color='white',\n",
    "    edgecolor='black'\n",
    ")\n",
    "\n",
    "ax.set_xticks(pos)\n",
    "ax.set_xticklabels([])\n",
    "# ax.set_xticklabels(x, rotation=45, ha='right', fontsize=fs)\n",
    "\n",
    "# ax.set_ylabel('Per interface Spearman', fontsize=fs)\n",
    "ax.set_ylim(0, 0.6)\n",
    "\n",
    "# Grid and layout\n",
    "ax.set_axisbelow(True)\n",
    "ax.grid(axis='y', linestyle='--', alpha=0.7)\n",
    "ax.spines['top'].set_visible(False)\n",
    "ax.spines['right'].set_visible(False)\n",
    "\n",
    "\n",
    "plt.tight_layout()\n",
    "\n",
    "plt.savefig('skempi_test.png', dpi=300, bbox_inches='tight')\n",
    "plt.show()"
   ]
  },
  {
   "cell_type": "code",
   "execution_count": null,
   "metadata": {},
   "outputs": [],
   "source": []
  }
 ],
 "metadata": {
  "kernelspec": {
   "display_name": "arthur",
   "language": "python",
   "name": "python3"
  },
  "language_info": {
   "codemirror_mode": {
    "name": "ipython",
    "version": 3
   },
   "file_extension": ".py",
   "mimetype": "text/x-python",
   "name": "python",
   "nbconvert_exporter": "python",
   "pygments_lexer": "ipython3",
   "version": "3.12.6"
  }
 },
 "nbformat": 4,
 "nbformat_minor": 2
}
