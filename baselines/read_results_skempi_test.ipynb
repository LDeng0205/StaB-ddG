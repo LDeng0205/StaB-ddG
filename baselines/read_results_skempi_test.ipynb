{
 "cells": [
  {
   "cell_type": "code",
   "execution_count": 1,
   "metadata": {},
   "outputs": [],
   "source": [
    "import pandas as pd\n",
    "import numpy as np\n",
    "import pandas as pd\n",
    "from eval_utils import *\n",
    "import pickle"
   ]
  },
  {
   "cell_type": "code",
   "execution_count": null,
   "metadata": {},
   "outputs": [
    {
     "name": "stderr",
     "output_type": "stream",
     "text": [
      "100%|██████████| 2/2 [00:00<00:00, 193.20it/s]\n"
     ]
    },
    {
     "name": "stdout",
     "output_type": "stream",
     "text": [
      "{'Spearman': np.float64(0.5314102889917783), 'Spearman Standard Error': np.float64(0.021197909028085604), 'Per Structure Spearman': np.float64(0.44795880927992865), 'Per Structure Spearman Standard Error': np.float64(0.039130165337101626), 'Pearson': np.float64(0.5319951796969004), 'Pearson Standard Error': np.float64(0.08024567469177568), 'Per Structure Pearson': np.float64(0.4897173732470619), 'Per Structure Pearson Standard Error': np.float64(0.04373356809719646), 'RMSE': 1.7215264642278463, 'RMSE Standard Error': np.float64(0.1340383574805385), 'Per Structure RMSE': np.float64(1.4124067929902837), 'Per Structure RMSE Standard Error': np.float64(0.12224980630874696), 'MAE': np.float64(1.230381988445642), 'Precision': 0.8781512605042017, 'Recall': 0.8572600492206727, 'ROC AUC': 0.733656444530232, 'ROC AUC Standard Error': np.float64(0.01990852014273975), 'PR AUC': 0.9106774085390579}\n"
     ]
    },
    {
     "name": "stderr",
     "output_type": "stream",
     "text": [
      "100%|██████████| 2/2 [00:00<00:00, 236.71it/s]\n"
     ]
    },
    {
     "name": "stdout",
     "output_type": "stream",
     "text": [
      "{'Spearman': np.float64(0.5610080347466383), 'Spearman Standard Error': np.float64(0.032879967622918504), 'Per Structure Spearman': np.float64(0.4767890474581934), 'Per Structure Spearman Standard Error': np.float64(0.0335577057470176), 'Pearson': np.float64(0.5411406678113391), 'Pearson Standard Error': np.float64(0.005896737425344412), 'Per Structure Pearson': np.float64(0.4948937452073889), 'Per Structure Pearson Standard Error': np.float64(0.03366428141562773), 'RMSE': 1.918676551416016, 'RMSE Standard Error': np.float64(0.017313593613029754), 'Per Structure RMSE': np.float64(1.6300183412966287), 'Per Structure RMSE Standard Error': np.float64(0.12371615112742906), 'MAE': np.float64(1.3905115942438135), 'Precision': 0.8841059602649006, 'Recall': 0.8761279737489746, 'ROC AUC': 0.7694997707860832, 'ROC AUC Standard Error': np.float64(0.005327903318381899), 'PR AUC': 0.9243929999308305}\n"
     ]
    },
    {
     "name": "stderr",
     "output_type": "stream",
     "text": [
      "100%|██████████| 2/2 [00:00<00:00, 234.25it/s]"
     ]
    },
    {
     "name": "stdout",
     "output_type": "stream",
     "text": [
      "{'Spearman': np.float64(0.5373406694910168), 'Spearman Standard Error': np.float64(0.0372114620431655), 'Per Structure Spearman': np.float64(0.41947547026108956), 'Per Structure Spearman Standard Error': np.float64(0.04249907391356115), 'Pearson': np.float64(0.22159701444914695), 'Pearson Standard Error': np.float64(0.15073322706379613), 'Per Structure Pearson': np.float64(0.4527396940935039), 'Per Structure Pearson Standard Error': np.float64(0.04401685314943447), 'RMSE': 3.9770533562594332, 'RMSE Standard Error': np.float64(1.8894100296644603), 'Per Structure RMSE': np.float64(1.9325175312488916), 'Per Structure RMSE Standard Error': np.float64(0.4975670355064207), 'MAE': np.float64(1.3129898298022915), 'Precision': 0.8748957464553795, 'Recall': 0.8655115511551155, 'ROC AUC': 0.7364717027258282, 'ROC AUC Standard Error': np.float64(0.02710705636124644), 'PR AUC': 0.9170113953576375}\n"
     ]
    },
    {
     "name": "stderr",
     "output_type": "stream",
     "text": [
      "\n"
     ]
    }
   ],
   "source": [
    "stab = pd.read_csv('StaB-ddG.csv')\n",
    "foldx = pd.read_csv('foldx.csv')\n",
    "flexddg = pd.read_csv('flexddg.csv')\n",
    "\n",
    "# filter foldx and flexddg to only include test set\n",
    "with open('../data/SKEMPI/test_pdb.pkl', 'rb') as f:\n",
    "    test_clusters = pickle.load(f)\n",
    "foldx['Name'] = foldx['#Pdb']\n",
    "flexddg['Name'] = flexddg['#Pdb']\n",
    "\n",
    "foldx = foldx[foldx['Name'].isin(test_clusters)]\n",
    "flexddg = flexddg[flexddg['Name'].isin(test_clusters)]\n",
    "print(compute_metrics(stab, bootstrap=True))\n",
    "print(compute_metrics(foldx, bootstrap=True))\n",
    "print(compute_metrics(flexddg, bootstrap=True))"
   ]
  },
  {
   "cell_type": "code",
   "execution_count": null,
   "metadata": {},
   "outputs": [],
   "source": []
  }
 ],
 "metadata": {
  "kernelspec": {
   "display_name": "torch-nightly",
   "language": "python",
   "name": "python3"
  },
  "language_info": {
   "codemirror_mode": {
    "name": "ipython",
    "version": 3
   },
   "file_extension": ".py",
   "mimetype": "text/x-python",
   "name": "python",
   "nbconvert_exporter": "python",
   "pygments_lexer": "ipython3",
   "version": "3.13.4"
  }
 },
 "nbformat": 4,
 "nbformat_minor": 2
}
