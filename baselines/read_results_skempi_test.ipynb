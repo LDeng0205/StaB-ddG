{
 "cells": [
  {
   "cell_type": "code",
   "execution_count": 2,
   "metadata": {},
   "outputs": [],
   "source": [
    "import pandas as pd\n",
    "import numpy as np\n",
    "import pandas as pd\n",
    "from eval_utils import *\n",
    "import pickle"
   ]
  },
  {
   "cell_type": "code",
   "execution_count": null,
   "metadata": {},
   "outputs": [],
   "source": [
    "stab = pd.read_csv('StaB-ddG.csv')\n",
    "foldx = pd.read_csv('baselines/foldx.csv')\n",
    "flexddg = pd.read_csv('baselines/flexddg.csv')\n",
    "\n",
    "# filter foldx and flexddg to only include test set\n",
    "with open('../SKEMPI/test_pdbs.pkl', 'rb') as f:\n",
    "    test_clusters = pickle.load(f)\n",
    "foldx = foldx[foldx['Name'].isin(test_clusters)]\n",
    "compute_metrics(df2, bootstrap=False)"
   ]
  }
 ],
 "metadata": {
  "kernelspec": {
   "display_name": "torch-nightly",
   "language": "python",
   "name": "python3"
  },
  "language_info": {
   "codemirror_mode": {
    "name": "ipython",
    "version": 3
   },
   "file_extension": ".py",
   "mimetype": "text/x-python",
   "name": "python",
   "nbconvert_exporter": "python",
   "pygments_lexer": "ipython3",
   "version": "3.13.4"
  }
 },
 "nbformat": 4,
 "nbformat_minor": 2
}
